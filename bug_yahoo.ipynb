{
 "cells": [
  {
   "cell_type": "code",
   "execution_count": 1,
   "metadata": {},
   "outputs": [
    {
     "name": "stdout",
     "output_type": "stream",
     "text": [
      "標題:試戴25萬手環忘還 下場出爐了\n",
      "網址:https://tw.news.yahoo.com/%E5%A5%B3%E8%A9%A6%E6%88%B425%E8%90%AC%E6%89%8B%E7%92%B0%E5%BF%98%E9%82%84-%E5%9B%9E%E5%9C%8B%E6%89%8D%E7%99%BC%E7%8F%BE-%E6%8C%A8%E5%91%8A%E4%B8%8B%E5%A0%B4%E5%87%BA%E7%88%90-050146904.html\n",
      "標題:遭爆啃老 福原愛大姑親曝職業\n",
      "網址:https://tw.news.yahoo.com/%E7%A6%8F%E5%8E%9F%E6%84%9B%E5%A4%A7%E5%A7%91%E7%88%86%E8%B2%A0%E5%82%B5%E5%95%83%E8%80%81-%E8%A6%AA%E6%9B%9D10%E5%B9%B4%E8%B6%85%E7%8B%82%E8%81%B7%E6%A5%AD%E6%89%93%E8%87%89-022000354.html\n",
      "標題:韓造勢人潮「比馬英九還可怕」\n",
      "網址:https://tw.news.yahoo.com/%E9%9F%93%E9%80%A0%E5%8B%A2%E4%BA%BA%E6%BD%AE%E5%83%85%E5%8D%83%E4%BA%BA-%E5%88%B0%E7%8F%BE%E5%A0%B4%E7%9C%8B%E5%AE%8C-%E4%BB%96%E7%9B%B4%E8%A8%80-%E6%AF%94%E9%A6%AC%E8%8B%B1%E4%B9%9D%E6%9B%B4%E5%8F%AF%E6%80%95-000236102.html\n",
      "標題:產後暴肥尪嫌噁心 她崩潰離婚\n",
      "網址:https://tw.news.yahoo.com/%E7%94%A2%E5%BE%8C%E6%9A%B4%E8%82%A5%E5%88%B086kg-%E8%80%81%E5%85%AC%E5%AB%8C-%E5%A5%BD%E5%99%81-%E7%B6%B2%E7%B4%85%E5%B4%A9%E6%BD%B0%E9%9B%A2%E5%A9%9A-5%E5%B9%B4%E5%A4%A7%E8%AE%8A%E8%BA%AB-045048794.html\n",
      "標題:48小時與8年獲博士學位的差別\n",
      "網址:https://tw.news.yahoo.com/-yahoo%E8%AB%96%E5%A3%87%E6%88%B4%E7%99%BC%E5%A5%8E-48-%E5%B0%8F%E6%99%82%E8%88%87-8-%E5%B9%B4%E6%8B%BF%E5%88%B0%E5%8D%9A%E5%A3%AB%E5%AD%B8%E4%BD%8D%E7%9A%84%E5%B7%AE%E5%88%A5-230046032.html\n",
      "標題:下季歸隊？小AI可望在勇士退休\n",
      "網址:https://tw.news.yahoo.com/nba-%E4%BC%8A%E5%8F%A4%E9%81%94%E6%8B%89%E5%8B%95%E5%90%91%E5%BC%95%E9%97%9C%E6%B3%A8-%E5%82%B3%E4%B8%8B%E5%AD%A3%E6%9C%89%E6%9C%9B%E5%9B%9E%E5%8B%87%E5%A3%AB%E8%88%87%E6%9F%AF%E7%91%9E%E5%9C%98%E5%93%A1-035133875.html\n",
      "標題:一戰成名！劉致榮傳與紅襪簽約\n",
      "網址:https://tw.news.yahoo.com/%E4%BA%9E%E9%8C%A6%E8%B3%BD%E6%8A%97%E6%97%A5%E9%A3%86%E9%80%9F-%E6%88%B0%E6%88%90%E5%90%8D-%E7%81%AB%E7%90%83%E7%94%B7-%E5%8A%89%E8%87%B4%E6%A6%AE%E5%82%B3%E8%88%87%E7%B4%85%E8%A5%AA%E7%B0%BD%E7%B4%84-043811945.html\n",
      "標題:挺自由言論 俠客：莫雷是對的\n",
      "網址:https://tw.sports.yahoo.com/news/nba%E9%A2%A8%E6%B3%A2-%E4%BF%A0%E5%AE%A2%E6%AD%90%E5%B0%BC%E7%88%BE-%E7%81%AB%E7%AE%AD%E9%9A%8A%E7%B8%BD%E7%B6%93%E7%90%86%E6%89%80%E8%A8%80%E6%9C%89%E7%90%86-020904621.html\n",
      "標題:K湯整季報銷？總仔隨即澄清\n",
      "網址:https://tw.sports.yahoo.com/news/thompson%E6%95%B4%E5%AD%A3%E7%BC%BA%E9%99%A3-kerr%E6%BE%84%E6%B8%85%E7%99%BC%E8%A8%80-022655573.html\n",
      "標題:秋冬登山要注意 保暖3招學起來\n",
      "網址:https://tw.sports.yahoo.com/news/%E7%A7%8B%E5%86%AC%E6%88%B6%E5%A4%96%E7%99%BB%E5%B1%B1%E6%B4%BB%E5%8B%95-%E4%BD%A0-%E5%AE%9A%E8%A6%81%E5%AD%B8%E6%9C%83%E7%9A%84%E4%BF%9D%E6%9A%96%E4%B8%89%E9%87%8D%E9%BB%9E-040202637.html\n",
      "標題:瘦回少女身！小甜甜狂撩阿達\n",
      "網址:https://tw.news.yahoo.com/%E5%B0%8F%E7%94%9C%E7%94%9C%E7%98%A6%E5%9B%9E%E5%B0%91%E5%A5%B3%E8%BA%AB-%E7%8B%82%E6%92%A9%E5%A4%B1%E6%88%80%E9%98%BF%E9%81%94%E7%9B%B4%E5%96%8A%E6%95%91%E5%91%BD-043930547.html\n",
      "標題:信女兒遭棄養？生母發文反駁\n",
      "網址:https://tw.news.yahoo.com/%E4%BF%A119%E6%AD%B2%E5%A5%B3%E6%9B%9D%E9%81%AD%E6%A3%84%E9%A4%8A-%E7%94%9F%E6%AF%8D%E9%A7%81%E6%B2%92%E5%81%9A%E9%8C%AF%E4%BA%8B-045505409.html\n",
      "標題:驚傳鬧離婚 廖輝英：我看錯人\n",
      "網址:https://tw.news.yahoo.com/%E5%BB%96%E8%BC%9D%E8%8B%B1%E7%88%86%E6%B0%A3-%E6%98%AF%E6%88%91%E7%9C%8B%E9%8C%AF%E4%BA%BA-%E9%A9%9A%E5%82%B3%E8%A6%81%E8%80%81%E5%85%AC%E7%B0%BD%E5%AD%97%E9%AC%A7%E9%9B%A2%E5%A9%9A-024536676.html\n",
      "標題:爆人機三角戀 亞當迪凡崩潰了\n",
      "網址:https://tw.movies.yahoo.com/news/%E5%85%A8%E7%90%83%E6%9C%80%E4%BA%BA%E6%80%A7%E5%8C%96%E6%89%8B%E6%A9%9F%E7%99%BB%E5%A0%B4-%E7%A5%9E%E6%A9%9F%E6%9C%89%E6%AF%9B%E7%97%85%E4%BA%9E%E7%95%B6%E8%BF%AA%E5%87%A1%E6%85%98%E9%81%AD%E6%83%A1%E6%A9%9F%E7%BA%8F%E8%BA%AB-131910764.html\n",
      "標題:林智文當爸了！萌娃基因神複製\n",
      "網址:https://tw.news.yahoo.com/l-boyz%E6%9E%97%E6%99%BA%E6%96%87%E5%8D%87%E6%A0%BC%E7%95%B6%E7%88%B8-%E6%9B%AC%E8%90%8C%E5%A8%83%E5%9F%BA%E5%9B%A0%E7%A5%9E%E8%A4%87%E8%A3%BD-024115917.html\n",
      "標題:台廟底下窩藏數隻 網驚：龍宮\n",
      "網址:https://bit.ly/2PdNBJV\n",
      "標題:迎娶辦桌吃這道 宜蘭夫家變臉\n",
      "網址:https://bit.ly/2p503Bf\n",
      "標題:泡麵耗3天煮不爛 內行曝真相歎\n",
      "網址:https://bit.ly/35YnZXx\n",
      "標題:瀏海竟藏百隻 見密集蠕動崩潰\n",
      "網址:https://bit.ly/2W7548v\n",
      "標題:抓妻旅館偷情 驗床單結果看傻\n",
      "網址:https://bit.ly/2o8yNBh\n",
      "標題:一輩子洗腎 院長：尿尿1狀最糟\n",
      "網址:https://bit.ly/2NaSst4\n",
      "標題:按摩熱敷竟更糟 24歲不堪走了\n",
      "網址:https://bit.ly/2PdQfj0\n",
      "標題:比綠茶好！醫生公認消脂它第一\n",
      "網址:https://bit.ly/32DXi8F\n",
      "標題:孕期1症…余天女癌復發關鍵\n",
      "網址:https://bit.ly/2Mz4xJf\n",
      "標題:80%體溫這流失！套上全身暖\n",
      "網址:https://tw.sports.yahoo.com/news/%E7%A7%8B%E5%86%AC%E6%88%B6%E5%A4%96%E7%99%BB%E5%B1%B1%E6%B4%BB%E5%8B%95-%E4%BD%A0-%E5%AE%9A%E8%A6%81%E5%AD%B8%E6%9C%83%E7%9A%84%E4%BF%9D%E6%9A%96%E4%B8%89%E9%87%8D%E9%BB%9E-040202637.html#1023ac\n",
      "標題:甩8年情傷 認了同居小鮮肉\n",
      "網址:https://tw.tv.yahoo.com/loveisintheair/%E5%B9%B8%E7%A6%8F-%E8%BF%91%E5%9C%A8%E5%92%AB%E5%B0%BA-ep04-%E5%AE%8C%E6%95%B4%E7%89%88-030000381.html#1023hh\n",
      "標題:踢爆！名店20年不漲有內幕\n",
      "網址:https://tw.tv.yahoo.com/unexpected/%E4%BE%86%E5%88%B0%E4%BD%A0%E7%9A%84%E4%B8%96%E7%95%8C-ep12-%E5%AE%8C%E6%95%B4%E7%89%88-084000098.html#1023hh\n",
      "標題:老蕭一口變臉？這泡麵網評囧\n",
      "網址:https://tw.tv.yahoo.com/mrdi/%E9%99%90%E9%87%8F%E7%99%BC%E8%A1%8C%E7%9A%84%E8%80%81%E8%95%AD%E6%8B%8C%E9%BA%B5-%E8%95%AD%E6%95%AC%E9%A8%B0%E5%87%BA%E7%9A%84%E7%BE%8E%E9%A3%9F-%E8%80%81%E5%AF%A6%E8%A9%95%E5%83%B9%E7%9C%9F%E7%9A%84%E5%A5%BD%E5%90%83%E5%97%8E-123635808.html#1023hh\n",
      "標題:好市多隱藏一盒 21元低調買\n",
      "網址:https://tw.tv.yahoo.com/abbybigeater/costco%E6%96%B0%E5%93%81%E9%96%8B%E7%AE%B1-%E8%A2%AB%E7%87%92%E5%88%B0%E4%B8%8D%E8%A1%8C%E7%9A%84%E6%B3%95%E5%BC%8F%E5%8F%AF%E9%BA%97%E9%A4%85-%E7%82%B8%E8%9D%A6%E5%AE%8C%E5%85%A8%E5%B1%8C%E6%89%93%E5%A4%96%E9%9D%A2%E8%B3%A3%E7%9A%84-125340612.html#1023hh\n",
      "標題:「覺得被污辱」王仁甫認偷吃\n",
      "網址:https://tw.news.yahoo.com/%E7%8E%8B%E4%BB%81%E7%94%AB%E5%81%B7%E5%90%83%E8%A2%AB%E7%99%BC%E7%8F%BE-%E9%81%AD%E8%A3%BD%E4%BD%9C%E4%BA%BA%E5%BE%92%E6%89%8B%E6%8C%96%E5%90%90-001528037.html#1023hh\n"
     ]
    }
   ],
   "source": [
    "import requests\n",
    "from bs4 import BeautifulSoup\n",
    "\n",
    "# 下載 yahoo 首頁內容\n",
    "r = requests.get('https://tw.yahoo.com/')\n",
    "\n",
    "#確認是否下載成功\n",
    "if r.status_code == requests.codes.ok:\n",
    "    # 以 BeautifulSoup 解析 HTML 程式碼\n",
    "    soup = BeautifulSoup(r.text, 'html.parser')\n",
    "    \n",
    "    #以 css 的 class 抓出各類頭條新聞\n",
    "    stories = soup.find_all('a', class_='story-title')\n",
    "    for s in stories:\n",
    "        #新聞標題\n",
    "        print(\"標題:\" + s.text)\n",
    "        #新聞網址\n",
    "        print(\"網址:\" + s.get('href'))"
   ]
  },
  {
   "cell_type": "code",
   "execution_count": null,
   "metadata": {},
   "outputs": [],
   "source": []
  }
 ],
 "metadata": {
  "kernelspec": {
   "display_name": "Python 3",
   "language": "python",
   "name": "python3"
  },
  "language_info": {
   "codemirror_mode": {
    "name": "ipython",
    "version": 3
   },
   "file_extension": ".py",
   "mimetype": "text/x-python",
   "name": "python",
   "nbconvert_exporter": "python",
   "pygments_lexer": "ipython3",
   "version": "3.6.5"
  }
 },
 "nbformat": 4,
 "nbformat_minor": 2
}
